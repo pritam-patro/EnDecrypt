{
 "cells": [
  {
   "cell_type": "code",
   "execution_count": 9,
   "id": "b56dc053",
   "metadata": {},
   "outputs": [],
   "source": [
    "import tkinter as tk\n",
    "from tkinter import messagebox\n",
    "from tkinter import scrolledtext\n",
    "from tkinter import ttk\n",
    "from functools import partial"
   ]
  },
  {
   "cell_type": "code",
   "execution_count": 10,
   "id": "01194da4",
   "metadata": {},
   "outputs": [],
   "source": [
    "def Key_Scheduling(key):\n",
    "    key_length = len(key)\n",
    "    if key_length > 256:\n",
    "        raise ValueError(\"Key too long (max length = 256)\")\n",
    "    S = list(range(256))\n",
    "    j = 0\n",
    "    for i in range(256):\n",
    "        j = (j + S[i] + key[i % key_length]) % 256\n",
    "        S[i], S[j] = S[j], S[i]\n",
    "    return S"
   ]
  },
  {
   "cell_type": "code",
   "execution_count": 11,
   "id": "800a8939",
   "metadata": {},
   "outputs": [],
   "source": [
    "def pad_key(key):\n",
    "    padded_key = bytearray(256)\n",
    "    key_len = len(key)\n",
    "    if key_len > 256:\n",
    "        raise ValueError(\"Key too long (max length = 256)\")\n",
    "    padded_key[:key_len] = bytearray(key.encode())\n",
    "    padded_key[key_len:] = bytearray(256 - key_len)\n",
    "    return padded_key"
   ]
  },
  {
   "cell_type": "code",
   "execution_count": 12,
   "id": "1c29cc98",
   "metadata": {},
   "outputs": [],
   "source": [
    "def stream_generation(S):\n",
    "    i = 0\n",
    "    j = 0\n",
    "    while True:\n",
    "        i = (i + 1) % 256\n",
    "        j = (j + S[i]) % 256\n",
    "        S[i], S[j] = S[j], S[i]\n",
    "        K = S[(S[i] + S[j]) % 256]\n",
    "        yield K"
   ]
  },
  {
   "cell_type": "code",
   "execution_count": 13,
   "id": "7dcad86e",
   "metadata": {},
   "outputs": [],
   "source": [
    "def encrypt(plaintext, key):\n",
    "    key = pad_key(key)\n",
    "    S = Key_Scheduling(key)\n",
    "    keystream = stream_generation(S)\n",
    "    encrypted_text = \"\"\n",
    "    for c in plaintext:\n",
    "        if c.isalpha():\n",
    "            if c.islower():\n",
    "                c = chr((ord(c) + next(keystream) - 97) % 26 + 97)\n",
    "            elif c.isupper():\n",
    "                c = chr((ord(c) + next(keystream) - 65) % 26 + 65)\n",
    "        elif c.isnumeric():\n",
    "            c = str((int(c) + next(keystream)) % 10)\n",
    "        encrypted_text += c\n",
    "    return encrypted_text"
   ]
  },
  {
   "cell_type": "code",
   "execution_count": 14,
   "id": "53518169",
   "metadata": {},
   "outputs": [],
   "source": [
    "def decrypt(ciphertext, key):\n",
    "    key = pad_key(key)\n",
    "    S = Key_Scheduling(key)\n",
    "    keystream = stream_generation(S)\n",
    "    decrypted_text = \"\"\n",
    "    for c in ciphertext:\n",
    "        if c.isalpha():\n",
    "            if c.islower():\n",
    "                c = chr((ord(c) - next(keystream) - 97) % 26 + 97)\n",
    "            elif c.isupper():\n",
    "                c = chr((ord(c) - next(keystream) - 65) % 26 + 65)\n",
    "        elif c.isnumeric():\n",
    "            c = str((int(c) - next(keystream)) % 10)\n",
    "        decrypted_text += c\n",
    "    return decrypted_text"
   ]
  },
  {
   "cell_type": "code",
   "execution_count": 16,
   "id": "d5048e98",
   "metadata": {},
   "outputs": [],
   "source": [
    "class Application(tk.Tk):\n",
    "    def __init__(self):\n",
    "        super().__init__()\n",
    "\n",
    "        self.title(\"Simple Encryption/Decryption App\")\n",
    "\n",
    "        self.text_label = tk.Label(self, text=\"Enter Text:\")\n",
    "        self.text_label.grid(row=0, column=0, sticky=tk.W, padx=5, pady=5)\n",
    "\n",
    "        self.text_entry = ttk.Entry(self, width=50)\n",
    "        self.text_entry.grid(row=0, column=1, columnspan=2, padx=5, pady=5)\n",
    "\n",
    "        self.key_label = tk.Label(self, text=\"Enter Key:\")\n",
    "        self.key_label.grid(row=1, column=0, sticky=tk.W, padx=5, pady=5)\n",
    "\n",
    "        self.key_entry = ttk.Entry(self, width=50)\n",
    "        self.key_entry.grid(row=1, column=1, columnspan=2, padx=5, pady=5)\n",
    "\n",
    "        self.mode_label = tk.Label(self, text=\"Select Mode:\")\n",
    "        self.mode_label.grid(row=2, column=0, sticky=tk.W, padx=5, pady=5)\n",
    "\n",
    "        self.mode_var = tk.StringVar(value=\"Encrypt\")\n",
    "        self.mode_combobox = ttk.Combobox(self, textvariable=self.mode_var, values=[\"Encrypt\", \"Decrypt\"])\n",
    "        self.mode_combobox.grid(row=2, column=1, padx=5, pady=5)\n",
    "\n",
    "        self.output_label = tk.Label(self, text=\"Output:\")\n",
    "        self.output_label.grid(row=3, column=0, sticky=tk.W, padx=5, pady=5)\n",
    "\n",
    "        self.output_text = scrolledtext.ScrolledText(self, width=50, height=10)\n",
    "        self.output_text.grid(row=3, column=1, columnspan=2, padx=5, pady=5)\n",
    "\n",
    "        self.process_button = ttk.Button(self, text=\"Process\", command=self.process)\n",
    "        self.process_button.grid(row=4, column=1, padx=5, pady=5)\n",
    "\n",
    "    def process(self):\n",
    "        mode = self.mode_var.get()\n",
    "        text = self.text_entry.get()\n",
    "        key = self.key_entry.get()\n",
    "\n",
    "        if mode == \"Encrypt\":\n",
    "            result = encrypt(text, key)\n",
    "        else:\n",
    "            result = decrypt(text, key)\n",
    "\n",
    "        self.output_text.delete(1.0, tk.END)\n",
    "        self.output_text.insert(tk.END, result)"
   ]
  },
  {
   "cell_type": "code",
   "execution_count": 18,
   "id": "2fb81587",
   "metadata": {},
   "outputs": [],
   "source": [
    "if __name__ == \"__main__\":\n",
    "    app = Application()\n",
    "    app.mainloop()"
   ]
  },
  {
   "cell_type": "code",
   "execution_count": null,
   "id": "58d62d02",
   "metadata": {},
   "outputs": [],
   "source": []
  }
 ],
 "metadata": {
  "kernelspec": {
   "display_name": "Python 3 (ipykernel)",
   "language": "python",
   "name": "python3"
  },
  "language_info": {
   "codemirror_mode": {
    "name": "ipython",
    "version": 3
   },
   "file_extension": ".py",
   "mimetype": "text/x-python",
   "name": "python",
   "nbconvert_exporter": "python",
   "pygments_lexer": "ipython3",
   "version": "3.9.13"
  }
 },
 "nbformat": 4,
 "nbformat_minor": 5
}
